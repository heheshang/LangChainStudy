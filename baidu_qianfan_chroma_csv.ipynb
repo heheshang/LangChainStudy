{
 "cells": [
  {
   "cell_type": "markdown",
   "metadata": {},
   "source": [
    "[demo](https://cloud.baidu.com/qianfandev/topic/267330)"
   ]
  },
  {
   "cell_type": "code",
   "execution_count": 13,
   "metadata": {},
   "outputs": [],
   "source": [
    "import os\n",
    "\n",
    "os.environ[\"QIANFAN_AK\"] = \"LU4ZTVJKFROUZMJzA0biqqmC\"\n",
    "os.environ[\"QIANFAN_SK\"] = \"YHJ33uMEoH4HNTQGdthdGk07fyMW1DbR\"\n",
    "\n",
    "# 此处为 Langsmith 相关功能开关。当且仅当你知道这是做什么用时，可删除注释并设置变量以使用 Langsmith 相关功能\n",
    "# os.environ['LANGCHAIN_TRACING_V2'] = \"true\"\n",
    "# os.environ['LANGCHAIN_ENDPOINT'] = \"https://api.smith.langchain.com\"\n",
    "# os.environ['LANGCHAIN_API_KEY'] = \"your_langchian_api_key\"\n",
    "# os.environ['LANGCHAIN_PROJECT'] = \"your_project_name\"\n",
    "\n",
    "is_chinese = True\n",
    "\n",
    "if is_chinese:\n",
    "    WEB_URL = \"https://zhuanlan.zhihu.com/p/85289282\"\n",
    "    CUSTOM_PROMPT_TEMPLATE = \"\"\"\n",
    "        使用下面的语料来回答本模板最末尾的问题。如果你不知道问题的答案，直接回答 \"我不知道\"，禁止随意编造答案。\n",
    "        为了保证答案尽可能简洁，你的回答必须不超过三句话。\n",
    "        请注意！在每次回答结束之后，你都必须接上 \"感谢你的提问\" 作为结束语\n",
    "        以下是一对问题和答案的样例：\n",
    "            请问：秦始皇的原名是什么\n",
    "            秦始皇原名嬴政。感谢你的提问。\n",
    "        \n",
    "        以下是语料：\n",
    "        \n",
    "        {context}\n",
    "        \n",
    "        请问：{question}\n",
    "    \"\"\"\n",
    "    QUESTION1 = \"今天北京的天气怎么样,同时回答今天日期\"\n",
    "    QUESTION2 = \"今天北京市朝阳区的天气怎么样\"\n",
    "else:\n",
    "    WEB_URL = \"https://lilianweng.github.io/posts/2023-06-23-agent/\"\n",
    "    CUSTOM_PROMPT_TEMPLATE = \"\"\"\n",
    "        Use the following pieces of context to answer the question at the end. \n",
    "        If you don't know the answer, just say that you don't know, don't try to make up an answer. \n",
    "        Use three sentences maximum and keep the answer as concise as possible. \n",
    "        Always say \"thanks for asking!\" at the end of the answer. \n",
    "        {context}\n",
    "        Question: {question}\n",
    "        Helpful Answer:\n",
    "    \"\"\"\n",
    "    QUESTION1 = \"how many firut there?\"\n",
    "    QUESTION2 = \"what is the name of the first fruit?\""
   ]
  },
  {
   "cell_type": "code",
   "execution_count": 14,
   "metadata": {},
   "outputs": [
    {
     "name": "stdout",
     "output_type": "stream",
     "text": [
      "[Document(page_content='city: city\\nadcode: adcode\\nprovince: province\\nreporttime: reporttime\\ndate: date\\ndayweather: dayweather\\nweek: week\\nnightweather: nightweather\\ndaytemp: daytemp\\nnighttemp: nighttemp\\ndaywind: daywind\\nnightwind: nightwind\\ndaypower: daypower\\nnightpower: nightpower\\ndaytemp_float: daytemp_float\\nnighttemp_float: nighttemp_float', metadata={'source': '/root/LangChainStudy/documentstore/t_china_city_weather.csv', 'row': 0}), Document(page_content='city: 北京市\\nadcode: 110000\\nprovince: 北京\\nreporttime: 2024-04-29 13:33:21\\ndate: 2024-04-29\\ndayweather: 小雨\\nweek: 1\\nnightweather: 多云\\ndaytemp: 15\\nnighttemp: 9\\ndaywind: 北\\nnightwind: 北\\ndaypower: 1-3\\nnightpower: 1-3\\ndaytemp_float: 15.0\\nnighttemp_float: 9.0', metadata={'source': '/root/LangChainStudy/documentstore/t_china_city_weather.csv', 'row': 1}), Document(page_content='city: 北京市\\nadcode: 110000\\nprovince: 北京\\nreporttime: 2024-05-02 13:33:28\\ndate: 2024-05-02\\ndayweather: 晴\\nweek: 4\\nnightweather: 晴\\ndaytemp: 28\\nnighttemp: 13\\ndaywind: 西南\\nnightwind: 西南\\ndaypower: 1-3\\nnightpower: 1-3\\ndaytemp_float: 28.0\\nnighttemp_float: 13.0', metadata={'source': '/root/LangChainStudy/documentstore/t_china_city_weather.csv', 'row': 2}), Document(page_content='city: 北京市\\nadcode: 110000\\nprovince: 北京\\nreporttime: 2024-04-29 19:33:22\\ndate: 2024-04-29\\ndayweather: 小雨\\nweek: 1\\nnightweather: 多云\\ndaytemp: 15\\nnighttemp: 7\\ndaywind: 北\\nnightwind: 北\\ndaypower: 1-3\\nnightpower: 1-3\\ndaytemp_float: 15.0\\nnighttemp_float: 7.0', metadata={'source': '/root/LangChainStudy/documentstore/t_china_city_weather.csv', 'row': 3}), Document(page_content='city: 北京市\\nadcode: 110000\\nprovince: 北京\\nreporttime: 2024-05-02 19:33:20\\ndate: 2024-05-02\\ndayweather: 晴\\nweek: 4\\nnightweather: 晴\\ndaytemp: 28\\nnighttemp: 13\\ndaywind: 西南\\nnightwind: 西南\\ndaypower: 1-3\\nnightpower: 1-3\\ndaytemp_float: 28.0\\nnighttemp_float: 13.0', metadata={'source': '/root/LangChainStudy/documentstore/t_china_city_weather.csv', 'row': 4}), Document(page_content='city: 北京市\\nadcode: 110000\\nprovince: 北京\\nreporttime: 2024-05-09 08:38:34\\ndate: 2024-05-10\\ndayweather: 小雨\\nweek: 5\\nnightweather: 多云\\ndaytemp: 28\\nnighttemp: 16\\ndaywind: 北\\nnightwind: 北\\ndaypower: 1-3\\nnightpower: 1-3\\ndaytemp_float: 28.0\\nnighttemp_float: 16.0', metadata={'source': '/root/LangChainStudy/documentstore/t_china_city_weather.csv', 'row': 5}), Document(page_content='city: 北京市\\nadcode: 110000\\nprovince: 北京\\nreporttime: 2024-05-03 13:33:31\\ndate: 2024-05-03\\ndayweather: 晴\\nweek: 5\\nnightweather: 多云\\ndaytemp: 28\\nnighttemp: 14\\ndaywind: 西南\\nnightwind: 西南\\ndaypower: 1-3\\nnightpower: 1-3\\ndaytemp_float: 28.0\\nnighttemp_float: 14.0', metadata={'source': '/root/LangChainStudy/documentstore/t_china_city_weather.csv', 'row': 6}), Document(page_content='city: 北京市\\nadcode: 110000\\nprovince: 北京\\nreporttime: 2024-04-27 13:33:38\\ndate: 2024-04-27\\ndayweather: 小雨\\nweek: 6\\nnightweather: 小雨\\ndaytemp: 24\\nnighttemp: 15\\ndaywind: 东\\nnightwind: 东\\ndaypower: 1-3\\nnightpower: 1-3\\ndaytemp_float: 24.0\\nnighttemp_float: 15.0', metadata={'source': '/root/LangChainStudy/documentstore/t_china_city_weather.csv', 'row': 7}), Document(page_content='city: 北京市\\nadcode: 110000\\nprovince: 北京\\nreporttime: 2024-05-08 19:33:24\\ndate: 2024-05-08\\ndayweather: 晴\\nweek: 3\\nnightweather: 晴\\ndaytemp: 30\\nnighttemp: 16\\ndaywind: 西南\\nnightwind: 西南\\ndaypower: 1-3\\nnightpower: 1-3\\ndaytemp_float: 30.0\\nnighttemp_float: 16.0', metadata={'source': '/root/LangChainStudy/documentstore/t_china_city_weather.csv', 'row': 8}), Document(page_content='city: 北京市\\nadcode: 110000\\nprovince: 北京\\nreporttime: 2024-05-03 19:33:19\\ndate: 2024-05-03\\ndayweather: 晴\\nweek: 5\\nnightweather: 多云\\ndaytemp: 27\\nnighttemp: 14\\ndaywind: 东南\\nnightwind: 东南\\ndaypower: 1-3\\nnightpower: 1-3\\ndaytemp_float: 27.0\\nnighttemp_float: 14.0', metadata={'source': '/root/LangChainStudy/documentstore/t_china_city_weather.csv', 'row': 9}), Document(page_content='city: 北京市\\nadcode: 110000\\nprovince: 北京\\nreporttime: 2024-04-27 19:33:26\\ndate: 2024-04-27\\ndayweather: 小雨\\nweek: 6\\nnightweather: 小雨\\ndaytemp: 24\\nnighttemp: 15\\ndaywind: 东\\nnightwind: 东\\ndaypower: 1-3\\nnightpower: 1-3\\ndaytemp_float: 24.0\\nnighttemp_float: 15.0', metadata={'source': '/root/LangChainStudy/documentstore/t_china_city_weather.csv', 'row': 10}), Document(page_content='city: 北京市\\nadcode: 110000\\nprovince: 北京\\nreporttime: 2024-04-25 19:33:26\\ndate: 2024-04-25\\ndayweather: 晴\\nweek: 4\\nnightweather: 晴\\ndaytemp: 28\\nnighttemp: 15\\ndaywind: 东南\\nnightwind: 东南\\ndaypower: 1-3\\nnightpower: 1-3\\ndaytemp_float: 28.0\\nnighttemp_float: 15.0', metadata={'source': '/root/LangChainStudy/documentstore/t_china_city_weather.csv', 'row': 11}), Document(page_content='city: 北京市\\nadcode: 110000\\nprovince: 北京\\nreporttime: 2024-05-05 13:33:27\\ndate: 2024-05-05\\ndayweather: 小雨\\nweek: 7\\nnightweather: 小雨\\ndaytemp: 22\\nnighttemp: 15\\ndaywind: 西南\\nnightwind: 西南\\ndaypower: 1-3\\nnightpower: 1-3\\ndaytemp_float: 22.0\\nnighttemp_float: 15.0', metadata={'source': '/root/LangChainStudy/documentstore/t_china_city_weather.csv', 'row': 12}), Document(page_content='city: 北京市\\nadcode: 110000\\nprovince: 北京\\nreporttime: 2024-05-04 13:33:29\\ndate: 2024-05-04\\ndayweather: 多云\\nweek: 6\\nnightweather: 多云\\ndaytemp: 22\\nnighttemp: 14\\ndaywind: 南\\nnightwind: 南\\ndaypower: 1-3\\nnightpower: 1-3\\ndaytemp_float: 22.0\\nnighttemp_float: 14.0', metadata={'source': '/root/LangChainStudy/documentstore/t_china_city_weather.csv', 'row': 13}), Document(page_content='city: 北京市\\nadcode: 110000\\nprovince: 北京\\nreporttime: 2024-05-05 19:33:20\\ndate: 2024-05-05\\ndayweather: 小雨\\nweek: 7\\nnightweather: 小雨\\ndaytemp: 22\\nnighttemp: 15\\ndaywind: 南\\nnightwind: 南\\ndaypower: 1-3\\nnightpower: 1-3\\ndaytemp_float: 22.0\\nnighttemp_float: 15.0', metadata={'source': '/root/LangChainStudy/documentstore/t_china_city_weather.csv', 'row': 14}), Document(page_content='city: 北京市\\nadcode: 110000\\nprovince: 北京\\nreporttime: 2024-05-07 13:33:28\\ndate: 2024-05-07\\ndayweather: 晴\\nweek: 2\\nnightweather: 晴\\ndaytemp: 28\\nnighttemp: 13\\ndaywind: 西\\nnightwind: 西\\ndaypower: 1-3\\nnightpower: 1-3\\ndaytemp_float: 28.0\\nnighttemp_float: 13.0', metadata={'source': '/root/LangChainStudy/documentstore/t_china_city_weather.csv', 'row': 15}), Document(page_content='city: 北京市\\nadcode: 110000\\nprovince: 北京\\nreporttime: 2024-05-06 13:33:27\\ndate: 2024-05-06\\ndayweather: 多云\\nweek: 1\\nnightweather: 晴\\ndaytemp: 26\\nnighttemp: 14\\ndaywind: 东北\\nnightwind: 东北\\ndaypower: 1-3\\nnightpower: 1-3\\ndaytemp_float: 26.0\\nnighttemp_float: 14.0', metadata={'source': '/root/LangChainStudy/documentstore/t_china_city_weather.csv', 'row': 16}), Document(page_content='city: 北京市\\nadcode: 110000\\nprovince: 北京\\nreporttime: 2024-05-04 19:33:15\\ndate: 2024-05-04\\ndayweather: 多云\\nweek: 6\\nnightweather: 阴\\ndaytemp: 22\\nnighttemp: 14\\ndaywind: 南\\nnightwind: 南\\ndaypower: 1-3\\nnightpower: 1-3\\ndaytemp_float: 22.0\\nnighttemp_float: 14.0', metadata={'source': '/root/LangChainStudy/documentstore/t_china_city_weather.csv', 'row': 17}), Document(page_content='city: 北京市\\nadcode: 110000\\nprovince: 北京\\nreporttime: 2024-05-01 13:33:25\\ndate: 2024-05-01\\ndayweather: 晴\\nweek: 3\\nnightweather: 晴\\ndaytemp: 28\\nnighttemp: 11\\ndaywind: 西南\\nnightwind: 西南\\ndaypower: 1-3\\nnightpower: 1-3\\ndaytemp_float: 28.0\\nnighttemp_float: 11.0', metadata={'source': '/root/LangChainStudy/documentstore/t_china_city_weather.csv', 'row': 18}), Document(page_content='city: 北京市\\nadcode: 110000\\nprovince: 北京\\nreporttime: 2024-05-07 19:33:13\\ndate: 2024-05-07\\ndayweather: 晴\\nweek: 2\\nnightweather: 晴\\ndaytemp: 28\\nnighttemp: 13\\ndaywind: 西\\nnightwind: 西\\ndaypower: 1-3\\nnightpower: 1-3\\ndaytemp_float: 28.0\\nnighttemp_float: 13.0', metadata={'source': '/root/LangChainStudy/documentstore/t_china_city_weather.csv', 'row': 19}), Document(page_content='city: 北京市\\nadcode: 110000\\nprovince: 北京\\nreporttime: 2024-05-06 19:33:22\\ndate: 2024-05-06\\ndayweather: 晴\\nweek: 1\\nnightweather: 晴\\ndaytemp: 26\\nnighttemp: 14\\ndaywind: 东北\\nnightwind: 东北\\ndaypower: 1-3\\nnightpower: 1-3\\ndaytemp_float: 26.0\\nnighttemp_float: 14.0', metadata={'source': '/root/LangChainStudy/documentstore/t_china_city_weather.csv', 'row': 20}), Document(page_content='city: 北京市\\nadcode: 110000\\nprovince: 北京\\nreporttime: 2024-05-08 19:33:24\\ndate: 2024-05-09\\ndayweather: 晴\\nweek: 4\\nnightweather: 多云\\ndaytemp: 30\\nnighttemp: 18\\ndaywind: 南\\nnightwind: 南\\ndaypower: 1-3\\nnightpower: 1-3\\ndaytemp_float: 30.0\\nnighttemp_float: 18.0', metadata={'source': '/root/LangChainStudy/documentstore/t_china_city_weather.csv', 'row': 21}), Document(page_content='city: 北京市\\nadcode: 110000\\nprovince: 北京\\nreporttime: 2024-04-28 19:33:25\\ndate: 2024-04-28\\ndayweather: 小雨\\nweek: 7\\nnightweather: 小雨\\ndaytemp: 17\\nnighttemp: 11\\ndaywind: 东北\\nnightwind: 东北\\ndaypower: 1-3\\nnightpower: 1-3\\ndaytemp_float: 17.0\\nnighttemp_float: 11.0', metadata={'source': '/root/LangChainStudy/documentstore/t_china_city_weather.csv', 'row': 22}), Document(page_content='city: 北京市\\nadcode: 110000\\nprovince: 北京\\nreporttime: 2024-05-09 08:38:34\\ndate: 2024-05-09\\ndayweather: 晴\\nweek: 4\\nnightweather: 多云\\ndaytemp: 30\\nnighttemp: 19\\ndaywind: 南\\nnightwind: 南\\ndaypower: 1-3\\nnightpower: 1-3\\ndaytemp_float: 30.0\\nnighttemp_float: 19.0', metadata={'source': '/root/LangChainStudy/documentstore/t_china_city_weather.csv', 'row': 23}), Document(page_content='city: 北京市\\nadcode: 110000\\nprovince: 北京\\nreporttime: 2024-04-30 13:33:28\\ndate: 2024-04-30\\ndayweather: 晴\\nweek: 2\\nnightweather: 晴\\ndaytemp: 25\\nnighttemp: 8\\ndaywind: 西南\\nnightwind: 西南\\ndaypower: 1-3\\nnightpower: 1-3\\ndaytemp_float: 25.0\\nnighttemp_float: 8.0', metadata={'source': '/root/LangChainStudy/documentstore/t_china_city_weather.csv', 'row': 24}), Document(page_content='city: 北京市\\nadcode: 110000\\nprovince: 北京\\nreporttime: 2024-05-08 19:33:24\\ndate: 2024-05-11\\ndayweather: 晴\\nweek: 6\\nnightweather: 晴\\ndaytemp: 27\\nnighttemp: 15\\ndaywind: 西北\\nnightwind: 西北\\ndaypower: 1-3\\nnightpower: 1-3\\ndaytemp_float: 27.0\\nnighttemp_float: 15.0', metadata={'source': '/root/LangChainStudy/documentstore/t_china_city_weather.csv', 'row': 25}), Document(page_content='city: 北京市\\nadcode: 110000\\nprovince: 北京\\nreporttime: 2024-04-30 19:33:20\\ndate: 2024-04-30\\ndayweather: 晴\\nweek: 2\\nnightweather: 晴\\ndaytemp: 25\\nnighttemp: 9\\ndaywind: 西南\\nnightwind: 西南\\ndaypower: 1-3\\nnightpower: 1-3\\ndaytemp_float: 25.0\\nnighttemp_float: 9.0', metadata={'source': '/root/LangChainStudy/documentstore/t_china_city_weather.csv', 'row': 26}), Document(page_content='city: 北京市\\nadcode: 110000\\nprovince: 北京\\nreporttime: 2024-05-09 08:38:34\\ndate: 2024-05-11\\ndayweather: 晴\\nweek: 6\\nnightweather: 晴\\ndaytemp: 27\\nnighttemp: 15\\ndaywind: 西北\\nnightwind: 西北\\ndaypower: 1-3\\nnightpower: 1-3\\ndaytemp_float: 27.0\\nnighttemp_float: 15.0', metadata={'source': '/root/LangChainStudy/documentstore/t_china_city_weather.csv', 'row': 27}), Document(page_content='city: 北京市\\nadcode: 110000\\nprovince: 北京\\nreporttime: 2024-04-26 19:33:24\\ndate: 2024-04-26\\ndayweather: 小雨\\nweek: 5\\nnightweather: 多云\\ndaytemp: 27\\nnighttemp: 16\\ndaywind: 东南\\nnightwind: 东南\\ndaypower: 1-3\\nnightpower: 1-3\\ndaytemp_float: 27.0\\nnighttemp_float: 16.0', metadata={'source': '/root/LangChainStudy/documentstore/t_china_city_weather.csv', 'row': 28}), Document(page_content='city: 北京市\\nadcode: 110000\\nprovince: 北京\\nreporttime: 2024-05-08 13:33:27\\ndate: 2024-05-08\\ndayweather: 晴\\nweek: 3\\nnightweather: 晴\\ndaytemp: 30\\nnighttemp: 16\\ndaywind: 西南\\nnightwind: 西南\\ndaypower: 1-3\\nnightpower: 1-3\\ndaytemp_float: 30.0\\nnighttemp_float: 16.0', metadata={'source': '/root/LangChainStudy/documentstore/t_china_city_weather.csv', 'row': 29}), Document(page_content='city: 北京市\\nadcode: 110000\\nprovince: 北京\\nreporttime: 2024-05-09 08:38:34\\ndate: 2024-05-12\\ndayweather: 晴\\nweek: 7\\nnightweather: 晴\\ndaytemp: 29\\nnighttemp: 14\\ndaywind: 西南\\nnightwind: 西南\\ndaypower: 1-3\\nnightpower: 1-3\\ndaytemp_float: 29.0\\nnighttemp_float: 14.0', metadata={'source': '/root/LangChainStudy/documentstore/t_china_city_weather.csv', 'row': 30}), Document(page_content='city: 北京市\\nadcode: 110000\\nprovince: 北京\\nreporttime: 2024-05-01 19:33:27\\ndate: 2024-05-01\\ndayweather: 晴\\nweek: 3\\nnightweather: 晴\\ndaytemp: 28\\nnighttemp: 11\\ndaywind: 西\\nnightwind: 西\\ndaypower: 1-3\\nnightpower: 1-3\\ndaytemp_float: 28.0\\nnighttemp_float: 11.0', metadata={'source': '/root/LangChainStudy/documentstore/t_china_city_weather.csv', 'row': 31})]\n"
     ]
    }
   ],
   "source": [
    "from langchain.document_loaders import CSVLoader\n",
    "\n",
    "loader = CSVLoader(file_path=\"/root/LangChainStudy/documentstore/t_china_city_weather.csv\",\n",
    "                   \n",
    "        csv_args={\n",
    "        \"delimiter\": \",\",\n",
    "        \"fieldnames\": [\n",
    "            \"city\"\n",
    "            ,\"adcode\"\t\n",
    "            ,\"province\"\t\n",
    "            ,\"reporttime\"\t\n",
    "            ,\"date\"\t\n",
    "            ,\"dayweather\"\n",
    "            ,\"week\",\"nightweather\",\"daytemp\",\"nighttemp\"\n",
    "            ,\"daywind\"\n",
    "            ,\"nightwind\"\n",
    "            ,\"daypower\"\n",
    "            ,\"nightpower\"\n",
    "            ,\"daytemp_float\"\n",
    "            ,\"nighttemp_float\"\n",
    "            ],\n",
    "    },\n",
    "                   )\n",
    "data = loader.load()\n",
    "print(data)"
   ]
  },
  {
   "cell_type": "code",
   "execution_count": 15,
   "metadata": {},
   "outputs": [],
   "source": [
    "# from langchain.text_splitter import RecursiveCharacterTextSplitter\n",
    "\n",
    "# text_splitter = RecursiveCharacterTextSplitter(chunk_size = 384, chunk_overlap = 0, separators=[\"\\n\\n\", \"\\n\", \" \", \"\", \"。\", \"，\"])\n",
    "# all_splits = text_splitter.split_documents(data)"
   ]
  },
  {
   "cell_type": "code",
   "execution_count": 16,
   "metadata": {},
   "outputs": [],
   "source": [
    "from langchain.embeddings import QianfanEmbeddingsEndpoint\n",
    "from langchain.vectorstores import Chroma\n",
    "from chromadb.config import Settings\n",
    "import chromadb\n",
    "new_client = chromadb.EphemeralClient(settings=Settings(chroma_server_host=\"pt001\",chroma_server_http_port=\"58000\"))\n",
    "vectorstore = Chroma.from_documents(client=new_client,documents=data, collection_name=\"test\", embedding=QianfanEmbeddingsEndpoint())"
   ]
  },
  {
   "cell_type": "code",
   "execution_count": 17,
   "metadata": {},
   "outputs": [
    {
     "name": "stdout",
     "output_type": "stream",
     "text": [
      "prompt问题：今天北京的天气怎么样,同时回答今天日期\n"
     ]
    },
    {
     "data": {
      "text/plain": [
       "[('city: 北京市\\nadcode: 110000\\nprovince: 北京\\nreporttime: 2024-05-07 13:33:28\\ndate: 2024-05-07\\ndayweather: 晴\\nweek: 2\\nnightweather: 晴\\ndaytemp: 28\\nnighttemp: 13\\ndaywind: 西\\nnightwind: 西\\ndaypower: 1-3\\nnightpower: 1-3\\ndaytemp_float: 28.0\\nnighttemp_float: 13.0',\n",
       "  0.3622654141758377),\n",
       " ('city: 北京市\\nadcode: 110000\\nprovince: 北京\\nreporttime: 2024-05-07 13:33:28\\ndate: 2024-05-07\\ndayweather: 晴\\nweek: 2\\nnightweather: 晴\\ndaytemp: 28\\nnighttemp: 13\\ndaywind: 西\\nnightwind: 西\\ndaypower: 1-3\\nnightpower: 1-3\\ndaytemp_float: 28.0\\nnighttemp_float: 13.0',\n",
       "  0.3622654141758377),\n",
       " ('city: 北京市\\nadcode: 110000\\nprovince: 北京\\nreporttime: 2024-05-07 19:33:13\\ndate: 2024-05-07\\ndayweather: 晴\\nweek: 2\\nnightweather: 晴\\ndaytemp: 28\\nnighttemp: 13\\ndaywind: 西\\nnightwind: 西\\ndaypower: 1-3\\nnightpower: 1-3\\ndaytemp_float: 28.0\\nnighttemp_float: 13.0',\n",
       "  0.3605244121575497),\n",
       " ('city: 北京市\\nadcode: 110000\\nprovince: 北京\\nreporttime: 2024-05-07 19:33:13\\ndate: 2024-05-07\\ndayweather: 晴\\nweek: 2\\nnightweather: 晴\\ndaytemp: 28\\nnighttemp: 13\\ndaywind: 西\\nnightwind: 西\\ndaypower: 1-3\\nnightpower: 1-3\\ndaytemp_float: 28.0\\nnighttemp_float: 13.0',\n",
       "  0.3605244121575497)]"
      ]
     },
     "execution_count": 17,
     "metadata": {},
     "output_type": "execute_result"
    }
   ],
   "source": [
    "# 基于prompt问题查找相似文档\n",
    "print(\"prompt问题：\"+QUESTION1)\n",
    "docs = vectorstore.similarity_search_with_relevance_scores(QUESTION1)\n",
    "[(document.page_content, score) for document, score in docs]"
   ]
  },
  {
   "cell_type": "code",
   "execution_count": 18,
   "metadata": {},
   "outputs": [
    {
     "data": {
      "text/plain": [
       "{'query': '今天北京的天气怎么样,同时回答今天日期', 'result': '今天北京的天气是晴，同时今天是2024年5月7日。感谢你的提问。'}"
      ]
     },
     "execution_count": 18,
     "metadata": {},
     "output_type": "execute_result"
    }
   ],
   "source": [
    "from langchain.chains import RetrievalQA\n",
    "\n",
    "from langchain_community.chat_models import QianfanChatEndpoint\n",
    "from langchain.prompts import PromptTemplate\n",
    "\n",
    "QA_CHAIN_PROMPT = PromptTemplate.from_template(CUSTOM_PROMPT_TEMPLATE)\n",
    "\n",
    "llm = QianfanChatEndpoint(streaming=True,model=\"ERNIE-4.0-8K\")\n",
    "retriever=vectorstore.as_retriever(search_type=\"similarity_score_threshold\", search_kwargs={'score_threshold': 0.0})\n",
    "                                   \n",
    "qa_chain = RetrievalQA.from_chain_type(llm, retriever=retriever, chain_type_kwargs={\"prompt\": QA_CHAIN_PROMPT})\n",
    "qa_chain({\"query\": QUESTION1})"
   ]
  },
  {
   "cell_type": "code",
   "execution_count": 19,
   "metadata": {},
   "outputs": [
    {
     "data": {
      "text/plain": [
       "[Document(page_content='city: 北京市\\nadcode: 110000\\nprovince: 北京\\nreporttime: 2024-05-07 13:33:28\\ndate: 2024-05-07\\ndayweather: 晴\\nweek: 2\\nnightweather: 晴\\ndaytemp: 28\\nnighttemp: 13\\ndaywind: 西\\nnightwind: 西\\ndaypower: 1-3\\nnightpower: 1-3\\ndaytemp_float: 28.0\\nnighttemp_float: 13.0', metadata={'row': 15, 'source': '/root/LangChainStudy/documentstore/t_china_city_weather.csv'}),\n",
       " Document(page_content='city: 北京市\\nadcode: 110000\\nprovince: 北京\\nreporttime: 2024-05-07 13:33:28\\ndate: 2024-05-07\\ndayweather: 晴\\nweek: 2\\nnightweather: 晴\\ndaytemp: 28\\nnighttemp: 13\\ndaywind: 西\\nnightwind: 西\\ndaypower: 1-3\\nnightpower: 1-3\\ndaytemp_float: 28.0\\nnighttemp_float: 13.0', metadata={'row': 15, 'source': '/root/LangChainStudy/documentstore/t_china_city_weather.csv'}),\n",
       " Document(page_content='city: 北京市\\nadcode: 110000\\nprovince: 北京\\nreporttime: 2024-05-07 19:33:13\\ndate: 2024-05-07\\ndayweather: 晴\\nweek: 2\\nnightweather: 晴\\ndaytemp: 28\\nnighttemp: 13\\ndaywind: 西\\nnightwind: 西\\ndaypower: 1-3\\nnightpower: 1-3\\ndaytemp_float: 28.0\\nnighttemp_float: 13.0', metadata={'row': 19, 'source': '/root/LangChainStudy/documentstore/t_china_city_weather.csv'}),\n",
       " Document(page_content='city: 北京市\\nadcode: 110000\\nprovince: 北京\\nreporttime: 2024-05-07 19:33:13\\ndate: 2024-05-07\\ndayweather: 晴\\nweek: 2\\nnightweather: 晴\\ndaytemp: 28\\nnighttemp: 13\\ndaywind: 西\\nnightwind: 西\\ndaypower: 1-3\\nnightpower: 1-3\\ndaytemp_float: 28.0\\nnighttemp_float: 13.0', metadata={'row': 19, 'source': '/root/LangChainStudy/documentstore/t_china_city_weather.csv'})]"
      ]
     },
     "execution_count": 19,
     "metadata": {},
     "output_type": "execute_result"
    }
   ],
   "source": [
    "from langchain.chains import RetrievalQA\n",
    "\n",
    "qa_chain = RetrievalQA.from_chain_type(llm, retriever=retriever, chain_type_kwargs={\"prompt\": QA_CHAIN_PROMPT}, return_source_documents=True)\n",
    "result = qa_chain({\"query\": QUESTION1})\n",
    "len(result['source_documents'])\n",
    "result['source_documents']"
   ]
  },
  {
   "cell_type": "code",
   "execution_count": 20,
   "metadata": {},
   "outputs": [
    {
     "data": {
      "text/plain": [
       "{'question': '今天北京的天气怎么样,同时回答今天日期',\n",
       " 'chat_history': [SystemMessage(content='')],\n",
       " 'answer': '今天北京的天气是晴天。今天是2024年5月7日。感谢你的提问。'}"
      ]
     },
     "execution_count": 20,
     "metadata": {},
     "output_type": "execute_result"
    }
   ],
   "source": [
    "from langchain.memory import ConversationSummaryMemory\n",
    "from langchain.chains import ConversationalRetrievalChain\n",
    "\n",
    "memory = ConversationSummaryMemory(llm=llm,memory_key=\"chat_history\",return_messages=True)\n",
    "qa = ConversationalRetrievalChain.from_llm(llm, retriever=retriever, memory=memory, combine_docs_chain_kwargs={\"prompt\": QA_CHAIN_PROMPT})\n",
    "qa(QUESTION1)"
   ]
  },
  {
   "cell_type": "code",
   "execution_count": 21,
   "metadata": {},
   "outputs": [
    {
     "data": {
      "text/plain": [
       "{'question': '今天北京市朝阳区的天气怎么样',\n",
       " 'chat_history': [SystemMessage(content='人类询问今天北京的天气情况以及今天日期，AI回答今天北京是晴天，日期是2024年5月7日，并表示感谢提问。')],\n",
       " 'answer': '今天北京市朝阳区的天气是白天多云，夜间阴。感谢你的提问。'}"
      ]
     },
     "execution_count": 21,
     "metadata": {},
     "output_type": "execute_result"
    }
   ],
   "source": [
    "qa(QUESTION2)"
   ]
  }
 ],
 "metadata": {
  "kernelspec": {
   "display_name": "Python 3",
   "language": "python",
   "name": "python3"
  },
  "language_info": {
   "codemirror_mode": {
    "name": "ipython",
    "version": 3
   },
   "file_extension": ".py",
   "mimetype": "text/x-python",
   "name": "python",
   "nbconvert_exporter": "python",
   "pygments_lexer": "ipython3",
   "version": "3.11.9"
  }
 },
 "nbformat": 4,
 "nbformat_minor": 2
}
